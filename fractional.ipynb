{
 "cells": [
  {
   "cell_type": "code",
   "execution_count": 12,
   "metadata": {},
   "outputs": [],
   "source": [
    "import numpy as np\n",
    "import matplotlib.pyplot as plt\n",
    "import numpy.fft as fft"
   ]
  },
  {
   "cell_type": "code",
   "execution_count": 13,
   "metadata": {},
   "outputs": [
    {
     "name": "stdout",
     "output_type": "stream",
     "text": [
      "shape of r_vals : (500,)\n",
      "shape of M_vals : (500,)\n",
      "shape of t_vals : (100,)\n"
     ]
    }
   ],
   "source": [
    "num_frames = 100\n",
    "timestep = 0.05\n",
    "# timestep = 1\n",
    "r_vals = np.linspace(0.0, 10.0, 501)\n",
    "r_vals = r_vals[:-1]\n",
    "r_vals[0] = 1e-10\n",
    "M_vals = np.linspace(0, 25.0, len(r_vals)+1)\n",
    "M_vals = M_vals[:-1]\n",
    "M_vals[0] = 1e-10\n",
    "t_vals = np.linspace(0.0, (num_frames-1)*timestep, num_frames)\n",
    "t_vals[0] = 1e-10\n",
    "print(f\"shape of r_vals : {r_vals.shape}\")\n",
    "print(f\"shape of M_vals : {M_vals.shape}\")\n",
    "print(f\"shape of t_vals : {t_vals.shape}\")\n",
    "# print(r_vals)\n",
    "# print(M_vals)\n",
    "# print(t_vals)"
   ]
  },
  {
   "cell_type": "code",
   "execution_count": null,
   "metadata": {},
   "outputs": [],
   "source": []
  }
 ],
 "metadata": {
  "kernelspec": {
   "display_name": "Python 3",
   "language": "python",
   "name": "python3"
  },
  "language_info": {
   "codemirror_mode": {
    "name": "ipython",
    "version": 3
   },
   "file_extension": ".py",
   "mimetype": "text/x-python",
   "name": "python",
   "nbconvert_exporter": "python",
   "pygments_lexer": "ipython3",
   "version": "3.11.3"
  },
  "orig_nbformat": 4
 },
 "nbformat": 4,
 "nbformat_minor": 2
}
