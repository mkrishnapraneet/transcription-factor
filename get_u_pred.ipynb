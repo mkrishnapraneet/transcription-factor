{
 "cells": [
  {
   "cell_type": "code",
   "execution_count": 1,
   "metadata": {},
   "outputs": [],
   "source": [
    "import numpy as np\n",
    "import matplotlib.pyplot as plt\n",
    "import numpy.fft as fft\n",
    "from scipy.integrate import quad"
   ]
  },
  {
   "cell_type": "code",
   "execution_count": 2,
   "metadata": {},
   "outputs": [
    {
     "name": "stdout",
     "output_type": "stream",
     "text": [
      "[0.         0.06283185 0.12566371 0.18849556 0.25132741 0.31415927\n",
      " 0.37699112 0.43982297 0.50265482 0.56548668 0.62831853 0.69115038\n",
      " 0.75398224 0.81681409 0.87964594 0.9424778  1.00530965 1.0681415\n",
      " 1.13097336 1.19380521 1.25663706 1.31946891 1.38230077 1.44513262\n",
      " 1.50796447 1.57079633 1.63362818 1.69646003 1.75929189 1.82212374\n",
      " 1.88495559 1.94778745 2.0106193  2.07345115 2.136283   2.19911486\n",
      " 2.26194671 2.32477856 2.38761042 2.45044227 2.51327412 2.57610598\n",
      " 2.63893783 2.70176968 2.76460154 2.82743339 2.89026524 2.95309709\n",
      " 3.01592895 3.0787608  3.14159265 3.20442451 3.26725636 3.33008821\n",
      " 3.39292007 3.45575192 3.51858377 3.58141563 3.64424748 3.70707933\n",
      " 3.76991118 3.83274304 3.89557489 3.95840674 4.0212386  4.08407045\n",
      " 4.1469023  4.20973416 4.27256601 4.33539786 4.39822972 4.46106157\n",
      " 4.52389342 4.58672527 4.64955713 4.71238898 4.77522083 4.83805269\n",
      " 4.90088454 4.96371639 5.02654825 5.0893801  5.15221195 5.2150438\n",
      " 5.27787566 5.34070751 5.40353936 5.46637122 5.52920307 5.59203492\n",
      " 5.65486678 5.71769863 5.78053048 5.84336234 5.90619419 5.96902604\n",
      " 6.03185789 6.09468975 6.1575216  6.22035345]\n"
     ]
    }
   ],
   "source": [
    "num_frames = 100\n",
    "timestep = 0.05\n",
    "t_vals = np.linspace(0.0, (num_frames-1)*timestep, num_frames)\n",
    "# print(t_vals)\n",
    "s_vals = np.linspace(0.0, 2*np.pi, 101)\n",
    "s_vals = s_vals[:-1]\n",
    "print(s_vals)\n",
    "r_vals = np.linspace(0.0, 10.0, 501)\n",
    "r_vals = r_vals[:-1]"
   ]
  },
  {
   "cell_type": "code",
   "execution_count": 3,
   "metadata": {},
   "outputs": [
    {
     "name": "stdout",
     "output_type": "stream",
     "text": [
      "shape of G_pred : (100, 500)\n"
     ]
    }
   ],
   "source": [
    "# load the data from G_pred.txt\n",
    "# the data is of shape (time_frames, r_vals.shape[0])\n",
    "G_pred = np.loadtxt(\"G_pred_test.txt\")\n",
    "print(f\"shape of G_pred : {G_pred.shape}\")"
   ]
  },
  {
   "cell_type": "code",
   "execution_count": 4,
   "metadata": {},
   "outputs": [],
   "source": [
    "############### check this step ################\n",
    "G_pred = G_pred * 2 * np.pi * r_vals\n",
    "############### check this step ################"
   ]
  },
  {
   "cell_type": "code",
   "execution_count": 5,
   "metadata": {},
   "outputs": [
    {
     "name": "stdout",
     "output_type": "stream",
     "text": [
      "shape of G_pred after fft : (100, 500)\n"
     ]
    }
   ],
   "source": [
    "# apply fft on r to get G_pred_k(t, k)\n",
    "G_pred_k = fft.fft(G_pred, axis=1).real\n",
    "print(f\"shape of G_pred after fft : {G_pred.shape}\")\n",
    "# print(f\"max value of G_pred : {np.max(G_pred)}\")"
   ]
  },
  {
   "cell_type": "code",
   "execution_count": 6,
   "metadata": {},
   "outputs": [
    {
     "name": "stdout",
     "output_type": "stream",
     "text": [
      "shape of k_vals : (500,)\n"
     ]
    }
   ],
   "source": [
    "# get the range of k values\n",
    "k_vals = fft.fftfreq(r_vals.shape[0], d=r_vals[1]-r_vals[0])\n",
    "# k_vals = 2 * np.pi * k_vals\n",
    "# print(k_vals)\n",
    "print(f\"shape of k_vals : {k_vals.shape}\")"
   ]
  },
  {
   "cell_type": "code",
   "execution_count": 7,
   "metadata": {},
   "outputs": [
    {
     "ename": "SyntaxError",
     "evalue": "incomplete input (3465844132.py, line 2)",
     "output_type": "error",
     "traceback": [
      "\u001b[0;36m  Cell \u001b[0;32mIn[7], line 2\u001b[0;36m\u001b[0m\n\u001b[0;31m    def laplace_transform_row(s_vals, G_pred\u001b[0m\n\u001b[0m                                            ^\u001b[0m\n\u001b[0;31mSyntaxError\u001b[0m\u001b[0;31m:\u001b[0m incomplete input\n"
     ]
    }
   ],
   "source": [
    "# laplace transform of G_pred_k(t, k) on time to get u_pred(s, k)\n",
    "# interpolate G_pred_k(t, k) on time to be able to integrate till infinity\n",
    "from scipy.interpolate import interp1d\n",
    "G_pred_k_interp = interp1d(t_vals, G_pred_k, axis=0, kind='cubic')\n",
    "# print(G_pred_k_interp)\n",
    "# print(G_pred_k_interp(s_vals[0]))\n",
    "\n",
    "# define the function to be integrated\n",
    "def func(k, s):\n",
    "    return G_pred_k_interp(s)[k] * np.exp(-s)\n",
    "\n",
    "# integrate the function from 0 to infinity\n",
    "u_pred = np.zeros((s_vals.shape[0], k_vals.shape[0]))\n",
    "for i in range(s_vals.shape[0]):\n",
    "    for j in range(k_vals.shape[0]):\n",
    "        u_pred[i, j] = quad(func, 0, np.inf, args=(s_vals[i]))[0]\n",
    "        # print(f\"u_pred[{i}, {j}] = {u_pred[i, j]}\")\n",
    "\n",
    "# print(u_pred)"
   ]
  },
  {
   "cell_type": "code",
   "execution_count": null,
   "metadata": {},
   "outputs": [],
   "source": [
    "# save the data to u_pred.txt\n",
    "# np.savetxt(\"u_pred_test.txt\", u_pred)"
   ]
  },
  {
   "cell_type": "code",
   "execution_count": null,
   "metadata": {},
   "outputs": [],
   "source": []
  }
 ],
 "metadata": {
  "kernelspec": {
   "display_name": "Python 3",
   "language": "python",
   "name": "python3"
  },
  "language_info": {
   "codemirror_mode": {
    "name": "ipython",
    "version": 3
   },
   "file_extension": ".py",
   "mimetype": "text/x-python",
   "name": "python",
   "nbconvert_exporter": "python",
   "pygments_lexer": "ipython3",
   "version": "3.10.12"
  },
  "orig_nbformat": 4
 },
 "nbformat": 4,
 "nbformat_minor": 2
}
