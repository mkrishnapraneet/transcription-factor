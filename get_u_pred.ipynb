{
 "cells": [
  {
   "cell_type": "code",
   "execution_count": 36,
   "metadata": {},
   "outputs": [],
   "source": [
    "import numpy as np\n",
    "import matplotlib.pyplot as plt\n",
    "import numpy.fft as fft"
   ]
  },
  {
   "cell_type": "code",
   "execution_count": 37,
   "metadata": {},
   "outputs": [],
   "source": [
    "num_frames = 100\n",
    "timestep = 0.05\n",
    "t_vals = np.linspace(0.0, (num_frames-1)*timestep, num_frames)\n",
    "r_vals = np.linspace(0.0, 10.0, 501)\n",
    "r_vals = r_vals[:-1]"
   ]
  },
  {
   "cell_type": "code",
   "execution_count": 38,
   "metadata": {},
   "outputs": [
    {
     "name": "stdout",
     "output_type": "stream",
     "text": [
      "shape of G_pred : (100, 500)\n"
     ]
    }
   ],
   "source": [
    "# load the data from G_pred.txt\n",
    "# the data is of shape (time_frames, r_vals.shape[0])\n",
    "G_pred = np.loadtxt(\"G_pred_test.txt\")\n",
    "print(f\"shape of G_pred : {G_pred.shape}\")"
   ]
  },
  {
   "cell_type": "code",
   "execution_count": 39,
   "metadata": {},
   "outputs": [],
   "source": [
    "############### check this step ################\n",
    "G_pred = G_pred * 2 * np.pi * r_vals\n",
    "############### check this step ################"
   ]
  },
  {
   "cell_type": "code",
   "execution_count": 40,
   "metadata": {},
   "outputs": [
    {
     "name": "stdout",
     "output_type": "stream",
     "text": [
      "shape of G_pred after fft : (100, 500)\n"
     ]
    }
   ],
   "source": [
    "# apply fft on r to get G_pred_k(t, k)\n",
    "G_pred_k = fft.fft(G_pred, axis=1).real\n",
    "print(f\"shape of G_pred after fft : {G_pred.shape}\")\n",
    "# print(f\"max value of G_pred : {np.max(G_pred)}\")"
   ]
  },
  {
   "cell_type": "code",
   "execution_count": 41,
   "metadata": {},
   "outputs": [],
   "source": [
    "# laplace transform of G_pred_k(t, k) on time to get u_pred(s, k)\n",
    "from scipy import integrate\n",
    "u_pred = np.zeros((num_frames, r_vals.shape[0]))\n",
    "for i in range(r_vals.shape[0]):\n",
    "    u_pred[:, i] = integrate.cumtrapz(G_pred_k[:, i], t_vals, initial=0.0)"
   ]
  },
  {
   "cell_type": "code",
   "execution_count": 42,
   "metadata": {},
   "outputs": [],
   "source": [
    "# save the data to u_pred.txt\n",
    "np.savetxt(\"u_pred_test.txt\", u_pred)"
   ]
  },
  {
   "cell_type": "code",
   "execution_count": null,
   "metadata": {},
   "outputs": [],
   "source": []
  }
 ],
 "metadata": {
  "kernelspec": {
   "display_name": "Python 3",
   "language": "python",
   "name": "python3"
  },
  "language_info": {
   "codemirror_mode": {
    "name": "ipython",
    "version": 3
   },
   "file_extension": ".py",
   "mimetype": "text/x-python",
   "name": "python",
   "nbconvert_exporter": "python",
   "pygments_lexer": "ipython3",
   "version": "3.11.3"
  },
  "orig_nbformat": 4
 },
 "nbformat": 4,
 "nbformat_minor": 2
}
