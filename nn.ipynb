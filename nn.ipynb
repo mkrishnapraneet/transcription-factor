{
 "cells": [
  {
   "cell_type": "code",
   "execution_count": 2,
   "metadata": {},
   "outputs": [],
   "source": [
    "import numpy as np\n",
    "import matplotlib.pyplot as plt\n",
    "import torch\n",
    "import torch.nn as nn"
   ]
  },
  {
   "cell_type": "code",
   "execution_count": 3,
   "metadata": {},
   "outputs": [],
   "source": [
    "num_frames = 100\n",
    "\n",
    "num_alphas = 10\n",
    "alphlowlim = 0.0\n",
    "alphhighlim = 0.9\n",
    "num_ds = 50\n",
    "dlowlim = 0.0\n",
    "dhighlim = 4.9"
   ]
  },
  {
   "cell_type": "code",
   "execution_count": 4,
   "metadata": {},
   "outputs": [],
   "source": [
    "# initial guess for P_alpha_d\n",
    "P_alpha_d = np.zeros((num_frames, num_alphas, num_ds))"
   ]
  },
  {
   "cell_type": "code",
   "execution_count": 5,
   "metadata": {},
   "outputs": [],
   "source": [
    "def contour_plt(P_alpha_d, i=0):\n",
    "    \"\"\"\n",
    "    Visualise P_alpha_d as a countour plot using contourf\n",
    "    \"\"\"\n",
    "    # plot\n",
    "    # rescale the y axis to be in the range of 0 to 2\n",
    "    # rescale the x axis to be in the range of 0 to 1000\n",
    "    plt.figure(figsize=(4, 4))\n",
    "    x = np.linspace(dlowlim, dhighlim, num_ds)\n",
    "    y = np.linspace(alphlowlim, alphhighlim, num_alphas)\n",
    "    plt.contourf(x, y, P_alpha_d[i], 20, cmap='RdGy')\n",
    "    plt.xlabel('d')\n",
    "    plt.ylabel('alpha')\n",
    "    plt.colorbar()\n",
    "    plt.show()"
   ]
  },
  {
   "cell_type": "code",
   "execution_count": null,
   "metadata": {},
   "outputs": [],
   "source": []
  }
 ],
 "metadata": {
  "kernelspec": {
   "display_name": "Python 3",
   "language": "python",
   "name": "python3"
  },
  "language_info": {
   "codemirror_mode": {
    "name": "ipython",
    "version": 3
   },
   "file_extension": ".py",
   "mimetype": "text/x-python",
   "name": "python",
   "nbconvert_exporter": "python",
   "pygments_lexer": "ipython3",
   "version": "3.11.3"
  },
  "orig_nbformat": 4
 },
 "nbformat": 4,
 "nbformat_minor": 2
}
