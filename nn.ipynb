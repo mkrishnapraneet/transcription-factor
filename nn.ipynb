{
 "cells": [
  {
   "cell_type": "code",
   "execution_count": 28,
   "metadata": {},
   "outputs": [],
   "source": [
    "import numpy as np\n",
    "import matplotlib.pyplot as plt\n",
    "import torch\n",
    "import torch.nn as nn"
   ]
  },
  {
   "cell_type": "code",
   "execution_count": 29,
   "metadata": {},
   "outputs": [
    {
     "name": "stdout",
     "output_type": "stream",
     "text": [
      "cpu\n"
     ]
    }
   ],
   "source": [
    "device = torch.device('cuda' if torch.cuda.is_available() else 'cpu')\n",
    "print(device)"
   ]
  },
  {
   "cell_type": "code",
   "execution_count": 30,
   "metadata": {},
   "outputs": [],
   "source": [
    "num_frames = 100\n",
    "\n",
    "num_alphas = 10\n",
    "alphlowlim = 0.0\n",
    "alphhighlim = 0.9\n",
    "num_ds = 50\n",
    "dlowlim = 0.0\n",
    "dhighlim = 4.9"
   ]
  },
  {
   "cell_type": "code",
   "execution_count": 31,
   "metadata": {},
   "outputs": [
    {
     "name": "stdout",
     "output_type": "stream",
     "text": [
      "[0.  0.1 0.2 0.3 0.4 0.5 0.6 0.7 0.8 0.9]\n",
      "[0.  0.1 0.2 0.3 0.4 0.5 0.6 0.7 0.8 0.9 1.  1.1 1.2 1.3 1.4 1.5 1.6 1.7\n",
      " 1.8 1.9 2.  2.1 2.2 2.3 2.4 2.5 2.6 2.7 2.8 2.9 3.  3.1 3.2 3.3 3.4 3.5\n",
      " 3.6 3.7 3.8 3.9 4.  4.1 4.2 4.3 4.4 4.5 4.6 4.7 4.8 4.9]\n",
      "shape of alpha_vals : (10,)\n",
      "shape of d_vals : (50,)\n"
     ]
    }
   ],
   "source": [
    "alpha_vals = np.linspace(alphlowlim, alphhighlim, num_alphas)\n",
    "print(alpha_vals)\n",
    "alpha_vals[0] = 1e-10 # set alpha=0 to a small value\n",
    "d_vals = np.linspace(dlowlim, dhighlim, num_ds)\n",
    "print(d_vals)\n",
    "d_vals[0] = 1e-10 # set d=0 to a small value\n",
    "\n",
    "r_vals = np.linspace(0.0, 10.0, 501)\n",
    "r_vals = r_vals[:-1]\n",
    "r_vals[0] = 1e-10 # set r=0 to a small value\n",
    "\n",
    "# print the shape of the data\n",
    "print(f\"shape of alpha_vals : {alpha_vals.shape}\")\n",
    "print(f\"shape of d_vals : {d_vals.shape}\")"
   ]
  },
  {
   "cell_type": "code",
   "execution_count": 32,
   "metadata": {},
   "outputs": [],
   "source": [
    "# initial guess for P_alpha_d\n",
    "P_alpha_d = np.zeros((num_frames, num_alphas, num_ds))"
   ]
  },
  {
   "cell_type": "code",
   "execution_count": 33,
   "metadata": {},
   "outputs": [],
   "source": [
    "def contour_plt(P_alpha_d, i=0):\n",
    "    \"\"\"\n",
    "    Visualise P_alpha_d as a countour plot using contourf\n",
    "    \"\"\"\n",
    "    # plot\n",
    "    # rescale the y axis to be in the range of 0 to 2\n",
    "    # rescale the x axis to be in the range of 0 to 1000\n",
    "    plt.figure(figsize=(4, 4))\n",
    "    x = np.linspace(dlowlim, dhighlim, num_ds)\n",
    "    y = np.linspace(alphlowlim, alphhighlim, num_alphas)\n",
    "    plt.contourf(x, y, P_alpha_d[i], 20, cmap='RdGy')\n",
    "    plt.xlabel('d')\n",
    "    plt.ylabel('alpha')\n",
    "    plt.colorbar()\n",
    "    plt.show()"
   ]
  },
  {
   "cell_type": "code",
   "execution_count": 34,
   "metadata": {},
   "outputs": [],
   "source": [
    "# # visualize P_alpha_d inital in subplots\n",
    "# for i in range(num_frames):\n",
    "#     contour_plt(P_alpha_d, i)"
   ]
  },
  {
   "cell_type": "code",
   "execution_count": 35,
   "metadata": {},
   "outputs": [
    {
     "name": "stdout",
     "output_type": "stream",
     "text": [
      "shape of u : (100, 500)\n"
     ]
    }
   ],
   "source": [
    "# load u_pred\n",
    "u = np.loadtxt(\"u.txt\")\n",
    "print(f\"shape of u : {u.shape}\")\n",
    "# print(u_pred)"
   ]
  },
  {
   "cell_type": "code",
   "execution_count": 36,
   "metadata": {},
   "outputs": [
    {
     "name": "stdout",
     "output_type": "stream",
     "text": [
      "shape of Z : (10, 50, 100, 500)\n"
     ]
    }
   ],
   "source": [
    "# load Z\n",
    "Z = np.load(\"Z.npy\")\n",
    "print(f\"shape of Z : {Z.shape}\")\n",
    "# print(Z)\n",
    "# normalize Z to have integral of Z over r equal to 1\n",
    "# Z = Z / np.sum(Z * (r_vals[1]-r_vals[0]))\n",
    "# print(Z)"
   ]
  },
  {
   "cell_type": "code",
   "execution_count": 37,
   "metadata": {},
   "outputs": [],
   "source": [
    "def give_u_pred(P_alpha_d, Z, alpha_vals, d_vals):\n",
    "    # calculate u_pred using double integral\n",
    "    u_pred = np.zeros((num_frames, r_vals.shape[0]))\n",
    "    for i in range(u_pred.shape[0]):\n",
    "        for j in range(u_pred.shape[1]):\n",
    "            u_pred[i, j] = np.trapz(np.trapz(P_alpha_d[i] * Z[:, :, i, j], d_vals, axis=1), alpha_vals, axis=0)\n",
    "    # normalize u_pred for each s\n",
    "    u_pred = u_pred / (np.sum(u_pred, axis=1) + 0).reshape(-1, 1)\n",
    "\n",
    "    return u_pred"
   ]
  },
  {
   "cell_type": "code",
   "execution_count": 38,
   "metadata": {},
   "outputs": [],
   "source": [
    "# define a neural network to learn P_alpha_d\n",
    "class Net(nn.Module):\n",
    "    def __init__(self):\n",
    "        super(Net, self).__init__()\n",
    "        self.fc1 = nn.Linear(2, 10)\n",
    "        self.fc2 = nn.Linear(10, 10)\n",
    "        self.fc3 = nn.Linear(10, 1)\n",
    "        self.relu = nn.ReLU()\n",
    "        self.sigmoid = nn.Sigmoid()\n",
    "\n",
    "    def forward(self, x):\n",
    "        x = self.relu(self.fc1(x))\n",
    "        x = self.relu(self.fc2(x))\n",
    "        out = self.sigmoid(self.fc3(x))\n",
    "        return out"
   ]
  },
  {
   "cell_type": "code",
   "execution_count": null,
   "metadata": {},
   "outputs": [],
   "source": []
  }
 ],
 "metadata": {
  "kernelspec": {
   "display_name": "Python 3",
   "language": "python",
   "name": "python3"
  },
  "language_info": {
   "codemirror_mode": {
    "name": "ipython",
    "version": 3
   },
   "file_extension": ".py",
   "mimetype": "text/x-python",
   "name": "python",
   "nbconvert_exporter": "python",
   "pygments_lexer": "ipython3",
   "version": "3.11.3"
  },
  "orig_nbformat": 4
 },
 "nbformat": 4,
 "nbformat_minor": 2
}
